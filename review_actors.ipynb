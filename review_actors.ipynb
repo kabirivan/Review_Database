{
    "cells": [
        {
            "cell_type": "code",
            "execution_count": 10,
            "source": [
                "from sqlalchemy import create_engine\n",
                "from sqlalchemy.orm import sessionmaker\n",
                "from sqlalchemy import select\n",
                "from sqlalchemy import MetaData\n",
                "from sqlalchemy import update, delete\n",
                "from sqlalchemy import Table, Column, String\n",
                "import pandas as pd\n",
                "\n",
                "pd.get_option(\"display.max_columns\")\n",
                "pd.set_option(\"display.max_columns\", None)\n",
                "pd.set_option(\"display.max_rows\", None)"
            ],
            "outputs": [],
            "metadata": {}
        },
        {
            "cell_type": "code",
            "execution_count": 2,
            "source": [
                "DBUSER = 'postgres'\n",
                "DBPASS = 'ivan'\n",
                "DBHOST = 'localhost'\n",
                "DBPORT = '5432'\n",
                "DBNAME = 'thinkia_updated'"
            ],
            "outputs": [],
            "metadata": {}
        },
        {
            "cell_type": "code",
            "execution_count": 3,
            "source": [
                "engine = create_engine('postgresql+psycopg2://{user}:{passwd}@{host}:{port}/{db}'.format(user=DBUSER, passwd=DBPASS, host=DBHOST, port=DBPORT, db=DBNAME))\n",
                "connection = engine.connect()"
            ],
            "outputs": [],
            "metadata": {}
        },
        {
            "cell_type": "code",
            "execution_count": 4,
            "source": [
                "Session = sessionmaker(engine)\n",
                "session = Session()"
            ],
            "outputs": [],
            "metadata": {}
        },
        {
            "cell_type": "code",
            "execution_count": 5,
            "source": [
                "# Create a MetaData instance\n",
                "metadata = MetaData()\n",
                "metadata.reflect(bind=engine)"
            ],
            "outputs": [],
            "metadata": {}
        },
        {
            "cell_type": "code",
            "execution_count": 6,
            "source": [
                "emp = Table('iniciativa_actor', metadata, autoload=True, autoload_with=engine)\n",
                "results = connection.execute(select([emp])).fetchall()\n",
                "actors_df = pd.DataFrame(results)\n",
                "actors_df.columns = results[0].keys()\n",
                "actors_df.head(5)\n"
            ],
            "outputs": [
                {
                    "output_type": "execute_result",
                    "data": {
                        "text/plain": [
                            "   id nombre_organizacion  siglas                               sitio_web  \\\n",
                            "0   1               NANAY   NANAY            https://nanay.app/Home/About   \n",
                            "1   3             FUNDAPI    None                https://www.fundapi.org/   \n",
                            "2   4          GAD CARCHI  CARCHI  https://carchi.gob.ec/gob_electronico/   \n",
                            "3   5      GAD PORTOVIEJO    None       https://online.portoviejo.gob.ec/   \n",
                            "4   7         Kruger Labs    None             https://www.krugerlabs.com/   \n",
                            "\n",
                            "                                             enfoque          created_at  \\\n",
                            "0  Creamos canales de comunicación entre los dife... 2020-12-05 10:21:38   \n",
                            "1  Somos una organización ecuatoriana sin fines d... 2020-12-05 11:32:57   \n",
                            "2  Administrar de forma eficiente los recursos te... 2020-12-05 11:39:34   \n",
                            "3  El GAD de Portoviejo ayuda a esta bella ciudad... 2020-12-05 11:50:32   \n",
                            "4  KrugerLabs es la aceleradora de negocios digit... 2020-12-07 14:51:31   \n",
                            "\n",
                            "           updated_at deleted_at  \n",
                            "0 2020-12-05 10:21:38       None  \n",
                            "1 2020-12-05 11:32:57       None  \n",
                            "2 2020-12-05 11:39:34       None  \n",
                            "3 2020-12-05 11:50:32       None  \n",
                            "4 2020-12-07 14:51:31       None  "
                        ],
                        "text/html": [
                            "<div>\n",
                            "<style scoped>\n",
                            "    .dataframe tbody tr th:only-of-type {\n",
                            "        vertical-align: middle;\n",
                            "    }\n",
                            "\n",
                            "    .dataframe tbody tr th {\n",
                            "        vertical-align: top;\n",
                            "    }\n",
                            "\n",
                            "    .dataframe thead th {\n",
                            "        text-align: right;\n",
                            "    }\n",
                            "</style>\n",
                            "<table border=\"1\" class=\"dataframe\">\n",
                            "  <thead>\n",
                            "    <tr style=\"text-align: right;\">\n",
                            "      <th></th>\n",
                            "      <th>id</th>\n",
                            "      <th>nombre_organizacion</th>\n",
                            "      <th>siglas</th>\n",
                            "      <th>sitio_web</th>\n",
                            "      <th>enfoque</th>\n",
                            "      <th>created_at</th>\n",
                            "      <th>updated_at</th>\n",
                            "      <th>deleted_at</th>\n",
                            "    </tr>\n",
                            "  </thead>\n",
                            "  <tbody>\n",
                            "    <tr>\n",
                            "      <th>0</th>\n",
                            "      <td>1</td>\n",
                            "      <td>NANAY</td>\n",
                            "      <td>NANAY</td>\n",
                            "      <td>https://nanay.app/Home/About</td>\n",
                            "      <td>Creamos canales de comunicación entre los dife...</td>\n",
                            "      <td>2020-12-05 10:21:38</td>\n",
                            "      <td>2020-12-05 10:21:38</td>\n",
                            "      <td>None</td>\n",
                            "    </tr>\n",
                            "    <tr>\n",
                            "      <th>1</th>\n",
                            "      <td>3</td>\n",
                            "      <td>FUNDAPI</td>\n",
                            "      <td>None</td>\n",
                            "      <td>https://www.fundapi.org/</td>\n",
                            "      <td>Somos una organización ecuatoriana sin fines d...</td>\n",
                            "      <td>2020-12-05 11:32:57</td>\n",
                            "      <td>2020-12-05 11:32:57</td>\n",
                            "      <td>None</td>\n",
                            "    </tr>\n",
                            "    <tr>\n",
                            "      <th>2</th>\n",
                            "      <td>4</td>\n",
                            "      <td>GAD CARCHI</td>\n",
                            "      <td>CARCHI</td>\n",
                            "      <td>https://carchi.gob.ec/gob_electronico/</td>\n",
                            "      <td>Administrar de forma eficiente los recursos te...</td>\n",
                            "      <td>2020-12-05 11:39:34</td>\n",
                            "      <td>2020-12-05 11:39:34</td>\n",
                            "      <td>None</td>\n",
                            "    </tr>\n",
                            "    <tr>\n",
                            "      <th>3</th>\n",
                            "      <td>5</td>\n",
                            "      <td>GAD PORTOVIEJO</td>\n",
                            "      <td>None</td>\n",
                            "      <td>https://online.portoviejo.gob.ec/</td>\n",
                            "      <td>El GAD de Portoviejo ayuda a esta bella ciudad...</td>\n",
                            "      <td>2020-12-05 11:50:32</td>\n",
                            "      <td>2020-12-05 11:50:32</td>\n",
                            "      <td>None</td>\n",
                            "    </tr>\n",
                            "    <tr>\n",
                            "      <th>4</th>\n",
                            "      <td>7</td>\n",
                            "      <td>Kruger Labs</td>\n",
                            "      <td>None</td>\n",
                            "      <td>https://www.krugerlabs.com/</td>\n",
                            "      <td>KrugerLabs es la aceleradora de negocios digit...</td>\n",
                            "      <td>2020-12-07 14:51:31</td>\n",
                            "      <td>2020-12-07 14:51:31</td>\n",
                            "      <td>None</td>\n",
                            "    </tr>\n",
                            "  </tbody>\n",
                            "</table>\n",
                            "</div>"
                        ]
                    },
                    "metadata": {},
                    "execution_count": 6
                }
            ],
            "metadata": {}
        },
        {
            "cell_type": "code",
            "execution_count": 8,
            "source": [
                "actors_df.shape"
            ],
            "outputs": [
                {
                    "output_type": "execute_result",
                    "data": {
                        "text/plain": [
                            "(324, 8)"
                        ]
                    },
                    "metadata": {},
                    "execution_count": 8
                }
            ],
            "metadata": {}
        },
        {
            "cell_type": "code",
            "execution_count": 12,
            "source": [
                "# Prueba de eliminacion de repetidos\n",
                "query = delete(emp)\n",
                "query = query.where(emp.columns.id == 326)\n",
                "results = connection.execute(query)"
            ],
            "outputs": [],
            "metadata": {}
        },
        {
            "cell_type": "code",
            "execution_count": 13,
            "source": [
                "results = connection.execute(select([emp])).fetchall()\n",
                "df = pd.DataFrame(results)\n",
                "df.columns = results[0].keys()\n",
                "df.shape"
            ],
            "outputs": [
                {
                    "output_type": "execute_result",
                    "data": {
                        "text/plain": [
                            "(323, 8)"
                        ]
                    },
                    "metadata": {},
                    "execution_count": 13
                }
            ],
            "metadata": {}
        },
        {
            "cell_type": "code",
            "execution_count": 17,
            "source": [
                "# Eliminacion de las organizaciones no utilizadas\n",
                "orga = [46, 69, 42, 340, 270, 147, 296, 100, 269, 38, 63, 32, 115, 228, 39, 177, 51, 188, 103, 224, 195, 106, 273, 212, 164, 191, 300, 255, 59, 238, 206, 93, 246, 331, 250, 336, 320, 277, 49, 200, 86, 258]\n",
                "query = delete(emp)\n",
                "\n",
                "for i in orga:\n",
                "    query = delete(emp)\n",
                "    query = query.where(emp.columns.id == i)\n",
                "    results = connection.execute(query)\n",
                "    print(i)\n",
                "\n",
                "results = connection.execute(select([emp])).fetchall()\n",
                "df = pd.DataFrame(results)\n",
                "df.columns = results[0].keys()\n",
                "df.shape\n"
            ],
            "outputs": [
                {
                    "output_type": "stream",
                    "name": "stdout",
                    "text": [
                        "46\n",
                        "69\n",
                        "42\n",
                        "340\n",
                        "270\n",
                        "147\n",
                        "296\n",
                        "100\n",
                        "269\n",
                        "38\n",
                        "63\n",
                        "32\n",
                        "115\n",
                        "228\n",
                        "39\n",
                        "177\n",
                        "51\n",
                        "188\n",
                        "103\n",
                        "224\n",
                        "195\n",
                        "106\n",
                        "273\n",
                        "212\n",
                        "164\n",
                        "191\n",
                        "300\n",
                        "255\n",
                        "59\n",
                        "238\n",
                        "206\n",
                        "93\n",
                        "246\n",
                        "331\n",
                        "250\n",
                        "336\n",
                        "320\n",
                        "277\n",
                        "49\n",
                        "200\n",
                        "86\n",
                        "258\n"
                    ]
                },
                {
                    "output_type": "execute_result",
                    "data": {
                        "text/plain": [
                            "(281, 8)"
                        ]
                    },
                    "metadata": {},
                    "execution_count": 17
                }
            ],
            "metadata": {}
        },
        {
            "cell_type": "code",
            "execution_count": 18,
            "source": [
                "emp = Table('iniciativa_actor', metadata, autoload=True, autoload_with=engine)\n",
                "results = connection.execute(select([emp])).fetchall()\n",
                "actors_df = pd.DataFrame(results)\n",
                "actors_df.columns = results[0].keys()\n",
                "actors_df.shape\n"
            ],
            "outputs": [
                {
                    "output_type": "execute_result",
                    "data": {
                        "text/plain": [
                            "(281, 8)"
                        ]
                    },
                    "metadata": {},
                    "execution_count": 18
                }
            ],
            "metadata": {}
        },
        {
            "cell_type": "code",
            "execution_count": 19,
            "source": [
                "# Eliminacion de las organizaciones no utilizadas\n",
                "orga = [274, 213, 165, 189, 309, 256, 116, 239, 207, 94, 249, 332, 251, 338, 317, 323, 180, 201, 85, 260]\n",
                "query = delete(emp)\n",
                "\n",
                "for i in orga:\n",
                "    query = delete(emp)\n",
                "    query = query.where(emp.columns.id == i)\n",
                "    results = connection.execute(query)\n",
                "    print(i)\n",
                "\n",
                "results = connection.execute(select([emp])).fetchall()\n",
                "df = pd.DataFrame(results)\n",
                "df.columns = results[0].keys()\n",
                "df.shape"
            ],
            "outputs": [
                {
                    "output_type": "stream",
                    "name": "stdout",
                    "text": [
                        "274\n",
                        "213\n",
                        "165\n",
                        "189\n",
                        "309\n",
                        "256\n",
                        "116\n",
                        "239\n",
                        "207\n",
                        "94\n",
                        "249\n",
                        "332\n",
                        "251\n",
                        "338\n",
                        "317\n",
                        "323\n",
                        "180\n",
                        "201\n",
                        "85\n",
                        "260\n"
                    ]
                },
                {
                    "output_type": "execute_result",
                    "data": {
                        "text/plain": [
                            "(261, 8)"
                        ]
                    },
                    "metadata": {},
                    "execution_count": 19
                }
            ],
            "metadata": {}
        },
        {
            "cell_type": "code",
            "execution_count": null,
            "source": [
                "# Eliminacion de las organizaciones no utilizadas\n",
                "orga = [324, 329, 333, 202, 84, 261]\n",
                "query = delete(emp)\n",
                "\n",
                "for i in orga:\n",
                "    query = delete(emp)\n",
                "    query = query.where(emp.columns.id == i)\n",
                "    results = connection.execute(query)\n",
                "    print(i)\n",
                "\n",
                "results = connection.execute(select([emp])).fetchall()\n",
                "df = pd.DataFrame(results)\n",
                "df.columns = results[0].keys()\n",
                "df.shape"
            ],
            "outputs": [],
            "metadata": {}
        }
    ],
    "metadata": {
        "orig_nbformat": 4,
        "language_info": {
            "name": "python",
            "version": "3.7.11",
            "mimetype": "text/x-python",
            "codemirror_mode": {
                "name": "ipython",
                "version": 3
            },
            "pygments_lexer": "ipython3",
            "nbconvert_exporter": "python",
            "file_extension": ".py"
        },
        "kernelspec": {
            "name": "python3",
            "display_name": "Python 3.7.11 64-bit ('DatabaseThinkia': conda)"
        },
        "interpreter": {
            "hash": "5efc5f1fe35c8c655d5f1b4327ed4dbc112b032150e9d4b0e80fc7ea233d2a4c"
        }
    },
    "nbformat": 4,
    "nbformat_minor": 2
}