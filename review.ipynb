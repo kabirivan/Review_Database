{
    "cells": [
        {
            "cell_type": "code",
            "execution_count": 1,
            "source": [
                "import sqlalchemy as db"
            ],
            "outputs": [],
            "metadata": {}
        },
        {
            "cell_type": "code",
            "execution_count": 2,
            "source": [
                "DBUSER = 'postgres'\n",
                "DBPASS = 'ivan'\n",
                "DBHOST = 'localhost'\n",
                "DBPORT = '5432'\n",
                "DBNAME = 'test'"
            ],
            "outputs": [],
            "metadata": {}
        },
        {
            "cell_type": "code",
            "execution_count": 3,
            "source": [
                "engine = db.create_engine('postgresql+psycopg2://{user}:{passwd}@{host}:{port}/{db}'.format(user=DBUSER, passwd=DBPASS, host=DBHOST, port=DBPORT, db=DBNAME))\n",
                "connection = engine.connect()\n",
                "metadata = db.MetaData()"
            ],
            "outputs": [],
            "metadata": {}
        },
        {
            "cell_type": "code",
            "execution_count": 6,
            "source": [
                "inspector = db.inspect(engine)\n",
                "schemas = inspector.get_schema_names()\n"
            ],
            "outputs": [],
            "metadata": {}
        },
        {
            "cell_type": "code",
            "execution_count": null,
            "source": [],
            "outputs": [],
            "metadata": {}
        }
    ],
    "metadata": {
        "orig_nbformat": 4,
        "language_info": {
            "name": "python",
            "version": "3.7.11",
            "mimetype": "text/x-python",
            "codemirror_mode": {
                "name": "ipython",
                "version": 3
            },
            "pygments_lexer": "ipython3",
            "nbconvert_exporter": "python",
            "file_extension": ".py"
        },
        "kernelspec": {
            "name": "python3",
            "display_name": "Python 3.7.11 64-bit ('DatabaseThinkia': conda)"
        },
        "interpreter": {
            "hash": "5efc5f1fe35c8c655d5f1b4327ed4dbc112b032150e9d4b0e80fc7ea233d2a4c"
        }
    },
    "nbformat": 4,
    "nbformat_minor": 2
}